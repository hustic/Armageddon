{
 "cells": [
  {
   "cell_type": "markdown",
   "metadata": {},
   "source": [
    "# Matilde Armageddon Presentation\n"
   ]
  },
  {
   "cell_type": "code",
   "execution_count": 18,
   "metadata": {},
   "outputs": [],
   "source": [
    "%matplotlib inline\n",
    "import armageddon\n",
    "import matplotlib.pyplot as plt\n",
    "import numpy as np"
   ]
  },
  {
   "cell_type": "markdown",
   "metadata": {},
   "source": [
    "Our solve_atmospheric_entry uses Runge Kutta 34 to determine the numerical solution to the given problem.\n",
    "\n",
    "\n",
    "```python\n",
    "\n",
    "## Our solving routine\n",
    "\n",
    "# The system of ODEs\n",
    "def f(self, y, fragmented, density):\n",
    "        # 0: velocity\n",
    "        # 1: mass\n",
    "        # 2: angle\n",
    "        # 3: altitude\n",
    "        # 4: distance\n",
    "        # 5: radius\n",
    "        f = np.zeros_like(y)\n",
    "        f[0] = - (self.Cd * self.rhoa(y[3]) * y[0]**2 * np.pi * y[5]**2) / (2 * y[1]) + (self.g * np.sin(y[2]))\n",
    "        f[1] = - (self.Ch * self.rhoa(y[3]) * np.pi * y[5]**2 * y[0]**3) / (2 * self.Q)\n",
    "        f[2] = (self.g * np.cos(y[2])) / y[0]  - (self.Cl * self.rhoa(y[3]) * np.pi * y[5]**2 * y[0]) / (2 * y[1]) - (y[0] * np.cos(y[2])) / (self.Rp + y[3])\n",
    "        f[3] = - y[0] * np.sin(y[2])\n",
    "        f[4] = (y[0] * np.cos(y[2])) / (1 + y[3] / self.Rp)\n",
    "        if fragmented == True:\n",
    "            f[5] = np.sqrt(7/2 * self.alpha * self.rhoa(y[3]) / density) * y[0]\n",
    "        else:\n",
    "            f[5] = 0\n",
    "        return f\n",
    "    \n",
    "# Runge_kutta\n",
    "def runge_kutta(self, y, f, dt, fragmented, density):\n",
    "        k1 = f(y, fragmented, density) * dt\n",
    "        k2 = f(y+k1/2, fragmented, density) * dt\n",
    "        k3 = f(y+k2/2, fragmented, density) * dt\n",
    "        k4 = f(y+k3, fragmented, density) * dt\n",
    "\n",
    "        y = y + (k1 + 2 * (k2 + k3) + k4) / 6\n",
    "        return y\n",
    "```"
   ]
  },
  {
   "cell_type": "code",
   "execution_count": 9,
   "metadata": {},
   "outputs": [
    {
     "data": {
      "text/html": [
       "<div>\n",
       "<style scoped>\n",
       "    .dataframe tbody tr th:only-of-type {\n",
       "        vertical-align: middle;\n",
       "    }\n",
       "\n",
       "    .dataframe tbody tr th {\n",
       "        vertical-align: top;\n",
       "    }\n",
       "\n",
       "    .dataframe thead th {\n",
       "        text-align: right;\n",
       "    }\n",
       "</style>\n",
       "<table border=\"1\" class=\"dataframe\">\n",
       "  <thead>\n",
       "    <tr style=\"text-align: right;\">\n",
       "      <th></th>\n",
       "      <th>velocity</th>\n",
       "      <th>mass</th>\n",
       "      <th>angle</th>\n",
       "      <th>altitude</th>\n",
       "      <th>distance</th>\n",
       "      <th>radius</th>\n",
       "      <th>time</th>\n",
       "      <th>dedz</th>\n",
       "    </tr>\n",
       "  </thead>\n",
       "  <tbody>\n",
       "    <tr>\n",
       "      <th>0</th>\n",
       "      <td>20000.000000</td>\n",
       "      <td>1.256637e+07</td>\n",
       "      <td>45.000000</td>\n",
       "      <td>100000.000000</td>\n",
       "      <td>0.000000</td>\n",
       "      <td>10.000000</td>\n",
       "      <td>0.00</td>\n",
       "      <td>0.000000</td>\n",
       "    </tr>\n",
       "    <tr>\n",
       "      <th>1</th>\n",
       "      <td>20000.345651</td>\n",
       "      <td>1.256637e+07</td>\n",
       "      <td>44.994732</td>\n",
       "      <td>99292.919615</td>\n",
       "      <td>696.255523</td>\n",
       "      <td>10.000000</td>\n",
       "      <td>0.05</td>\n",
       "      <td>0.000000</td>\n",
       "    </tr>\n",
       "    <tr>\n",
       "      <th>2</th>\n",
       "      <td>20000.691162</td>\n",
       "      <td>1.256636e+07</td>\n",
       "      <td>44.989463</td>\n",
       "      <td>98585.892041</td>\n",
       "      <td>1392.663189</td>\n",
       "      <td>10.000000</td>\n",
       "      <td>0.10</td>\n",
       "      <td>0.000000</td>\n",
       "    </tr>\n",
       "    <tr>\n",
       "      <th>3</th>\n",
       "      <td>20001.036523</td>\n",
       "      <td>1.256636e+07</td>\n",
       "      <td>44.984192</td>\n",
       "      <td>97878.917308</td>\n",
       "      <td>2089.223034</td>\n",
       "      <td>10.000000</td>\n",
       "      <td>0.15</td>\n",
       "      <td>0.000000</td>\n",
       "    </tr>\n",
       "    <tr>\n",
       "      <th>4</th>\n",
       "      <td>20001.381723</td>\n",
       "      <td>1.256636e+07</td>\n",
       "      <td>44.978921</td>\n",
       "      <td>97171.995445</td>\n",
       "      <td>2785.935090</td>\n",
       "      <td>10.000000</td>\n",
       "      <td>0.20</td>\n",
       "      <td>0.000000</td>\n",
       "    </tr>\n",
       "    <tr>\n",
       "      <th>...</th>\n",
       "      <td>...</td>\n",
       "      <td>...</td>\n",
       "      <td>...</td>\n",
       "      <td>...</td>\n",
       "      <td>...</td>\n",
       "      <td>...</td>\n",
       "      <td>...</td>\n",
       "      <td>...</td>\n",
       "    </tr>\n",
       "    <tr>\n",
       "      <th>9224</th>\n",
       "      <td>26.096410</td>\n",
       "      <td>1.684071e+06</td>\n",
       "      <td>89.942451</td>\n",
       "      <td>6.248150</td>\n",
       "      <td>79410.454247</td>\n",
       "      <td>113.735961</td>\n",
       "      <td>461.20</td>\n",
       "      <td>0.000017</td>\n",
       "    </tr>\n",
       "    <tr>\n",
       "      <th>9225</th>\n",
       "      <td>26.094271</td>\n",
       "      <td>1.684070e+06</td>\n",
       "      <td>89.942452</td>\n",
       "      <td>4.943383</td>\n",
       "      <td>79410.455558</td>\n",
       "      <td>113.735961</td>\n",
       "      <td>461.25</td>\n",
       "      <td>0.000017</td>\n",
       "    </tr>\n",
       "    <tr>\n",
       "      <th>9226</th>\n",
       "      <td>26.092132</td>\n",
       "      <td>1.684070e+06</td>\n",
       "      <td>89.942452</td>\n",
       "      <td>3.638724</td>\n",
       "      <td>79410.456868</td>\n",
       "      <td>113.735961</td>\n",
       "      <td>461.30</td>\n",
       "      <td>0.000017</td>\n",
       "    </tr>\n",
       "    <tr>\n",
       "      <th>9227</th>\n",
       "      <td>26.089994</td>\n",
       "      <td>1.684070e+06</td>\n",
       "      <td>89.942452</td>\n",
       "      <td>2.334172</td>\n",
       "      <td>79410.458178</td>\n",
       "      <td>113.735961</td>\n",
       "      <td>461.35</td>\n",
       "      <td>0.000017</td>\n",
       "    </tr>\n",
       "    <tr>\n",
       "      <th>9228</th>\n",
       "      <td>26.087856</td>\n",
       "      <td>1.684070e+06</td>\n",
       "      <td>89.942452</td>\n",
       "      <td>1.029726</td>\n",
       "      <td>79410.459489</td>\n",
       "      <td>113.735961</td>\n",
       "      <td>461.40</td>\n",
       "      <td>0.000017</td>\n",
       "    </tr>\n",
       "  </tbody>\n",
       "</table>\n",
       "<p>9229 rows × 8 columns</p>\n",
       "</div>"
      ],
      "text/plain": [
       "          velocity          mass      angle       altitude      distance  \\\n",
       "0     20000.000000  1.256637e+07  45.000000  100000.000000      0.000000   \n",
       "1     20000.345651  1.256637e+07  44.994732   99292.919615    696.255523   \n",
       "2     20000.691162  1.256636e+07  44.989463   98585.892041   1392.663189   \n",
       "3     20001.036523  1.256636e+07  44.984192   97878.917308   2089.223034   \n",
       "4     20001.381723  1.256636e+07  44.978921   97171.995445   2785.935090   \n",
       "...            ...           ...        ...            ...           ...   \n",
       "9224     26.096410  1.684071e+06  89.942451       6.248150  79410.454247   \n",
       "9225     26.094271  1.684070e+06  89.942452       4.943383  79410.455558   \n",
       "9226     26.092132  1.684070e+06  89.942452       3.638724  79410.456868   \n",
       "9227     26.089994  1.684070e+06  89.942452       2.334172  79410.458178   \n",
       "9228     26.087856  1.684070e+06  89.942452       1.029726  79410.459489   \n",
       "\n",
       "          radius    time      dedz  \n",
       "0      10.000000    0.00  0.000000  \n",
       "1      10.000000    0.05  0.000000  \n",
       "2      10.000000    0.10  0.000000  \n",
       "3      10.000000    0.15  0.000000  \n",
       "4      10.000000    0.20  0.000000  \n",
       "...          ...     ...       ...  \n",
       "9224  113.735961  461.20  0.000017  \n",
       "9225  113.735961  461.25  0.000017  \n",
       "9226  113.735961  461.30  0.000017  \n",
       "9227  113.735961  461.35  0.000017  \n",
       "9228  113.735961  461.40  0.000017  \n",
       "\n",
       "[9229 rows x 8 columns]"
      ]
     },
     "execution_count": 9,
     "metadata": {},
     "output_type": "execute_result"
    }
   ],
   "source": [
    "# Defining earth atmosphere with exponential atmospheric pressure\n",
    "earth = armageddon.Planet(atmos_func='exponential')\n",
    "\n",
    "# Get impact information for a given set of input parameters\n",
    "radius = 10      # of the asteroid - assuming sphere\n",
    "velocity = 20e3  # entry velocity of the asteroid\n",
    "density = 3000   # density of the asteroid in kg/m^3\n",
    "strength = 1e5   # strength of the asteroid - to determine asteroid fragmentation during atmospheric entry\n",
    "angle = 45       # angle of entry\n",
    "\n",
    "df, dic = earth.impact(10, 20e3, 3000, 1e5, 45)\n",
    "\n",
    "df # numerical solution given initial conditions"
   ]
  },
  {
   "cell_type": "code",
   "execution_count": 10,
   "metadata": {},
   "outputs": [
    {
     "data": {
      "text/plain": [
       "{'burst_peak_dedz': 66.35633152784206,\n",
       " 'burst_altitude': 28377.75036629499,\n",
       " 'burst_total_ke_lost': 442.0066685351022,\n",
       " 'outcome': 'Airburst'}"
      ]
     },
     "execution_count": 10,
     "metadata": {},
     "output_type": "execute_result"
    }
   ],
   "source": [
    "dic  # type of entry event with data analysis results"
   ]
  },
  {
   "cell_type": "code",
   "execution_count": 13,
   "metadata": {},
   "outputs": [],
   "source": [
    "# Demonstration of accuracy"
   ]
  },
  {
   "cell_type": "code",
   "execution_count": 14,
   "metadata": {},
   "outputs": [],
   "source": [
    "# Demonstration of interpolation"
   ]
  },
  {
   "cell_type": "code",
   "execution_count": 17,
   "metadata": {},
   "outputs": [
    {
     "ename": "NameError",
     "evalue": "name 'np' is not defined",
     "output_type": "error",
     "traceback": [
      "\u001b[0;31m---------------------------------------------------------------------------\u001b[0m",
      "\u001b[0;31mNameError\u001b[0m                                 Traceback (most recent call last)",
      "\u001b[0;32m<ipython-input-17-97c6d3c36665>\u001b[0m in \u001b[0;36m<module>\u001b[0;34m\u001b[0m\n\u001b[1;32m     10\u001b[0m                                               rmin=8, rmax=12)\n\u001b[1;32m     11\u001b[0m \u001b[0;34m\u001b[0m\u001b[0m\n\u001b[0;32m---> 12\u001b[0;31m \u001b[0mburst_altitude\u001b[0m \u001b[0;34m=\u001b[0m \u001b[0mnp\u001b[0m\u001b[0;34m.\u001b[0m\u001b[0marray\u001b[0m\u001b[0;34m(\u001b[0m\u001b[0mensemble\u001b[0m\u001b[0;34m[\u001b[0m\u001b[0;34m'burst_altitude'\u001b[0m\u001b[0;34m]\u001b[0m\u001b[0;34m)\u001b[0m\u001b[0;34m.\u001b[0m\u001b[0mastype\u001b[0m\u001b[0;34m(\u001b[0m\u001b[0;34m'int'\u001b[0m\u001b[0;34m)\u001b[0m\u001b[0;34m\u001b[0m\u001b[0;34m\u001b[0m\u001b[0m\n\u001b[0m\u001b[1;32m     13\u001b[0m \u001b[0mplt\u001b[0m\u001b[0;34m.\u001b[0m\u001b[0mhist\u001b[0m\u001b[0;34m(\u001b[0m\u001b[0mburst_altitude\u001b[0m\u001b[0;34m)\u001b[0m\u001b[0;34m\u001b[0m\u001b[0;34m\u001b[0m\u001b[0m\n\u001b[1;32m     14\u001b[0m \u001b[0mplt\u001b[0m\u001b[0;34m.\u001b[0m\u001b[0mshow\u001b[0m\u001b[0;34m(\u001b[0m\u001b[0;34m)\u001b[0m\u001b[0;34m\u001b[0m\u001b[0;34m\u001b[0m\u001b[0m\n",
      "\u001b[0;31mNameError\u001b[0m: name 'np' is not defined"
     ]
    }
   ],
   "source": [
    "# Define fiducial parameters for our ensemble calculation\n",
    "fiducial_impact = {'radius': 10.0,\n",
    "                   'angle': 45.0,\n",
    "                   'strength': 100000.0,\n",
    "                   'velocity': 21000.0,\n",
    "                   'density': 3000.0}\n",
    "\n",
    "# perform the ensemble \n",
    "ensemble = armageddon.ensemble.solve_ensemble(earth,\n",
    "                                              fiducial_impact,\n",
    "                                              variables=['radius','angle','strength','velocity','density'], radians=False,\n",
    "                                              rmin=8, rmax=12)"
   ]
  },
  {
   "cell_type": "code",
   "execution_count": 21,
   "metadata": {},
   "outputs": [
    {
     "data": {
      "image/png": "[encoded data removed]",
      "text/plain": [
       "<Figure size 432x288 with 1 Axes>"
      ]
     },
     "metadata": {
      "needs_background": "light"
     },
     "output_type": "display_data"
    }
   ],
   "source": [
    "# get the burst altitude\n",
    "burst_altitude = np.array(ensemble['burst_altitude']).astype('int')\n",
    "# produce a histogram \n",
    "plt.hist(burst_altitude, 25)\n",
    "plt.show()"
   ]
  },
  {
   "cell_type": "code",
   "execution_count": null,
   "metadata": {},
   "outputs": [],
   "source": []
  }
 ],
 "metadata": {
  "kernelspec": {
   "display_name": "Python 3",
   "language": "python",
   "name": "python3"
  },
  "language_info": {
   "codemirror_mode": {
    "name": "ipython",
    "version": 3
   },
   "file_extension": ".py",
   "mimetype": "text/x-python",
   "name": "python",
   "nbconvert_exporter": "python",
   "pygments_lexer": "ipython3",
   "version": "3.7.4"
  }
 },
 "nbformat": 4,
 "nbformat_minor": 4
}
